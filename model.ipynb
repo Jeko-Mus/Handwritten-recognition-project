{
 "cells": [
  {
   "cell_type": "code",
   "execution_count": 21,
   "metadata": {},
   "outputs": [],
   "source": [
    "from collections import OrderedDict\n",
    "from PIL import Image\n",
    "\n",
    "import numpy as np\n",
    "import matplotlib.pyplot as plt\n",
    "import time\n",
    "\n",
    "import torch\n",
    "from torch import nn\n",
    "from torch import optim\n",
    "import torch.nn.functional as F\n",
    "\n",
    "from torchvision import datasets, transforms"
   ]
  },
  {
   "cell_type": "code",
   "execution_count": 22,
   "metadata": {},
   "outputs": [],
   "source": [
    "def view_classify(img, ps):\n",
    "    \n",
    "    ps = ps.data.numpy().squeeze()\n",
    "\n",
    "    fig, (ax1, ax2) = plt.subplots(figsize=(6,9), ncols=2)\n",
    "    ax1.imshow(img.resize_(1, 28, 28).numpy().squeeze())\n",
    "    ax1.axis('off')\n",
    "    ax2.barh(np.arange(10), ps)\n",
    "    ax2.set_aspect(0.1)\n",
    "    ax2.set_yticks(np.arange(10))\n",
    "    ax2.set_yticklabels(np.arange(10))\n",
    "    ax2.set_title('Class Probability')\n",
    "    ax2.set_xlim(0, 1.1)"
   ]
  },
  {
   "cell_type": "code",
   "execution_count": 23,
   "metadata": {},
   "outputs": [],
   "source": [
    "# Define a transform to normalize the data (Preprocessing)\n",
    "transform = transforms.Compose([transforms.ToTensor(), transforms.Normalize((0.5), (0.5)) ])\n",
    "\n",
    "# Download and load the training data\n",
    "trainset    = datasets.MNIST('MNIST_data/', download=True, train=True, transform=transform)\n",
    "trainloader = torch.utils.data.DataLoader(trainset, batch_size=32, shuffle=True)\n",
    "\n",
    "# Download and load the test data\n",
    "testset    = datasets.MNIST('MNIST_data/', download=True, train=False, transform=transform)\n",
    "testloader = torch.utils.data.DataLoader(testset, batch_size=32, shuffle=True)\n"
   ]
  },
  {
   "cell_type": "code",
   "execution_count": 24,
   "metadata": {},
   "outputs": [],
   "source": [
    "class Net(nn.Module):\n",
    "    def __init__(self):\n",
    "        super(Net, self).__init__()\n",
    "        self.conv1 = nn.Conv2d(1, 10, kernel_size=5)\n",
    "        self.conv2 = nn.Conv2d(10, 20, kernel_size=5)\n",
    "        self.conv2_drop = nn.Dropout2d()\n",
    "        self.fc1 = nn.Linear(320, 50)\n",
    "        self.fc2 = nn.Linear(50, 10)\n",
    "\n",
    "    def forward(self, x):\n",
    "        x = F.relu(F.max_pool2d(self.conv1(x), 2))\n",
    "        x = F.relu(F.max_pool2d(self.conv2_drop(self.conv2(x)), 2))\n",
    "        x = x.view(-1, 320)\n",
    "        x = F.relu(self.fc1(x))\n",
    "        x = F.dropout(x, training=self.training)\n",
    "        x = self.fc2(x)\n",
    "        return F.log_softmax(x, dim=1)\n",
    "\n",
    "model = Net()"
   ]
  },
  {
   "cell_type": "code",
   "execution_count": 25,
   "metadata": {},
   "outputs": [],
   "source": [
    "optimizer = optim.Adam(model.parameters(), lr=0.003)\n",
    "criterion = nn.CrossEntropyLoss()"
   ]
  },
  {
   "cell_type": "code",
   "execution_count": 27,
   "metadata": {},
   "outputs": [
    {
     "name": "stdout",
     "output_type": "stream",
     "text": [
      "Epoch: 1 | train loss: 0.20028348636900387 | test loss: 0.04963612570356226\n",
      "Epoch: 2 | train loss: 0.19440375502922883 | test loss: 0.0577193774810753\n",
      "Epoch: 3 | train loss: 0.18879143021131556 | test loss: 0.060078229207815914\n",
      "Epoch: 4 | train loss: 0.18355076739198217 | test loss: 0.045021526696964374\n",
      "Epoch: 5 | train loss: 0.18445020584339897 | test loss: 0.04841222230892869\n",
      "Epoch: 6 | train loss: 0.17813360271950562 | test loss: 0.04766932822324201\n",
      "Epoch: 7 | train loss: 0.17177005554288627 | test loss: 0.046952334133644524\n",
      "Epoch: 8 | train loss: 0.17709615057346723 | test loss: 0.05753791623627216\n",
      "Epoch: 9 | train loss: 0.17287133745709435 | test loss: 0.05050403400069138\n",
      "Epoch: 10 | train loss: 0.17126236338540912 | test loss: 0.04487827764579254\n",
      "Epoch: 11 | train loss: 0.17123525820802898 | test loss: 0.04898079947521798\n",
      "Epoch: 12 | train loss: 0.17110300097819417 | test loss: 0.04707345040026902\n",
      "Epoch: 13 | train loss: 0.16550166912972927 | test loss: 0.060319028444868625\n",
      "Epoch: 14 | train loss: 0.17720315226552388 | test loss: 0.04152834809702035\n",
      "Epoch: 15 | train loss: 0.16785422504842282 | test loss: 0.04751859735397403\n",
      "Epoch: 16 | train loss: 0.16594257274207969 | test loss: 0.07329544113869348\n",
      "Epoch: 17 | train loss: 0.16727828935670355 | test loss: 0.04923323477643177\n",
      "Epoch: 18 | train loss: 0.16554038419611752 | test loss: 0.05128222325390398\n",
      "Epoch: 19 | train loss: 0.16238769261507938 | test loss: 0.04645446488566246\n",
      "Epoch: 20 | train loss: 0.1622978216910114 | test loss: 0.04886023252254472\n"
     ]
    },
    {
     "data": {
      "image/png": "[encoded data removed]",
      "text/plain": [
       "<Figure size 432x288 with 1 Axes>"
      ]
     },
     "metadata": {
      "needs_background": "light"
     },
     "output_type": "display_data"
    }
   ],
   "source": [
    "# Training loop\n",
    "\n",
    "epochs = 20\n",
    "\n",
    "train_losses = []\n",
    "test_losses = []\n",
    "\n",
    "for epoch in range(epochs):\n",
    "\n",
    "    running_train_loss = 0\n",
    "    running_test_loss = 0\n",
    "\n",
    "    for train_imgs, train_labels in iter(trainloader):\n",
    "\n",
    "        optimizer.zero_grad()\n",
    "\n",
    "        pred = model.forward(train_imgs)\n",
    "        pred = pred.squeeze()\n",
    "        # print(pred.shape, train_labels.shape)\n",
    "        #train_labels = train_labels.float()\n",
    "        train_labels = train_labels.long()\n",
    "\n",
    "        train_loss = criterion(pred, train_labels)\n",
    "\n",
    "        train_loss.backward()\n",
    "\n",
    "        optimizer.step()\n",
    "\n",
    "        running_train_loss += train_loss.item()\n",
    "\n",
    "    model.eval()\n",
    "    with torch.no_grad():\n",
    "\n",
    "        for test_imgs, test_labels in iter(testloader):\n",
    "\n",
    "            test_pred = model.forward(test_imgs)\n",
    "            test_pred = test_pred.squeeze()\n",
    "\n",
    "            #test_labels = test_labels.float()\n",
    "            test_labels = test_labels.long()\n",
    "\n",
    "\n",
    "            test_loss = criterion(test_pred, test_labels)\n",
    "\n",
    "            running_test_loss += test_loss.item()\n",
    "    model.train()\n",
    "    \n",
    "    avg_train_loss  = running_train_loss/len(trainloader)\n",
    "    avg_test_loss   = running_test_loss/len(testloader)\n",
    "\n",
    "    train_losses.append(avg_train_loss)\n",
    "    test_losses.append(avg_test_loss)\n",
    "\n",
    "    print(f'Epoch: {epoch+1} | train loss: {avg_train_loss} | test loss: {avg_test_loss}')\n",
    "\n",
    "\n",
    "plt.plot(train_losses, label='train loss')\n",
    "plt.plot(test_losses, label='test loss')\n",
    "\n",
    "plt.show()\n"
   ]
  },
  {
   "cell_type": "code",
   "execution_count": 28,
   "metadata": {},
   "outputs": [
    {
     "name": "stdout",
     "output_type": "stream",
     "text": [
      "tensor([[0.0044, 0.7664, 0.0218, 0.0496, 0.0199, 0.0392, 0.0094, 0.0434, 0.0339,\n",
      "         0.0121]], grad_fn=<SoftmaxBackward0>)\n"
     ]
    },
    {
     "data": {
      "image/png": "[encoded data removed]",
      "text/plain": [
       "<Figure size 432x648 with 2 Axes>"
      ]
     },
     "metadata": {
      "needs_background": "light"
     },
     "output_type": "display_data"
    }
   ],
   "source": [
    "images, labels = next(iter(testloader))\n",
    "#images.resize_(images.shape[0], 1, 784)\n",
    "logit = model.forward(images[0,:])\n",
    "ps = F.softmax(logit, dim =1)\n",
    "print(ps)\n",
    "view_classify(images[0].view(1, 28, 28), ps)\n"
   ]
  },
  {
   "cell_type": "code",
   "execution_count": 10,
   "metadata": {},
   "outputs": [],
   "source": [
    "# saving model\n",
    "#torch.save(model, './handrecgn_model.pt') "
   ]
  },
  {
   "cell_type": "markdown",
   "metadata": {},
   "source": [
    "### with my handwriting"
   ]
  },
  {
   "cell_type": "code",
   "execution_count": 29,
   "metadata": {},
   "outputs": [],
   "source": [
    "trans = transforms.Compose([\n",
    "    transforms.ToTensor(),\n",
    "    transforms.Normalize((0.5),(0.5))\n",
    "    ])"
   ]
  },
  {
   "cell_type": "code",
   "execution_count": 30,
   "metadata": {},
   "outputs": [
    {
     "name": "stdout",
     "output_type": "stream",
     "text": [
      "tensor([[6.4072e-01, 1.2898e-09, 3.5798e-01, 1.4052e-08, 7.2219e-05, 1.7333e-09,\n",
      "         1.2270e-03, 3.4872e-07, 3.4464e-08, 4.3870e-07]],\n",
      "       grad_fn=<SoftmaxBackward0>)\n"
     ]
    },
    {
     "data": {
      "image/png": "[encoded data removed]",
      "text/plain": [
       "<Figure size 432x648 with 2 Axes>"
      ]
     },
     "metadata": {
      "needs_background": "light"
     },
     "output_type": "display_data"
    }
   ],
   "source": [
    "image = Image.open('nums_al/zero.png')\n",
    "image = trans(image)\n",
    "#image.resize_(image.shape[0], 1, 784)\n",
    "image = torch.unsqueeze(image,1)\n",
    "logit = model.forward(image[0,:])\n",
    "ps = F.softmax(logit, dim =1)\n",
    "print(ps)\n",
    "view_classify(image[0].view(1, 28, 28), ps)"
   ]
  }
 ],
 "metadata": {
  "interpreter": {
   "hash": "3d9dac11d33c8124df76be2d536cf81855f1e36a1c8ea739aa2eea81492656c9"
  },
  "kernelspec": {
   "display_name": "Python 3.8.12 ('strive')",
   "language": "python",
   "name": "python3"
  },
  "language_info": {
   "codemirror_mode": {
    "name": "ipython",
    "version": 3
   },
   "file_extension": ".py",
   "mimetype": "text/x-python",
   "name": "python",
   "nbconvert_exporter": "python",
   "pygments_lexer": "ipython3",
   "version": "3.8.12"
  },
  "orig_nbformat": 4
 },
 "nbformat": 4,
 "nbformat_minor": 2
}
